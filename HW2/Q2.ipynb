{
 "cells": [
  {
   "cell_type": "code",
   "execution_count": 1,
   "metadata": {},
   "outputs": [],
   "source": [
    "import numpy as np\n",
    "import statsmodels.api as sm\n",
    "import matplotlib.pyplot as plt"
   ]
  },
  {
   "cell_type": "code",
   "execution_count": 2,
   "metadata": {},
   "outputs": [
    {
     "name": "stdout",
     "output_type": "stream",
     "text": [
      "Data point 1: X = 0.0976, Y = 0.0787\n",
      "Data point 2: X = 0.4304, Y = 0.9508\n",
      "Data point 3: X = 0.2055, Y = 0.4576\n",
      "Data point 4: X = 0.0898, Y = 0.0259\n",
      "Data point 5: X = -0.1527, Y = -0.1566\n"
     ]
    }
   ],
   "source": [
    "# Set random seed for reproducibility\n",
    "np.random.seed(0)\n",
    "\n",
    "# Number of data points\n",
    "n = 100\n",
    "\n",
    "# Generate random values for X uniformly in the range [-1, 1]\n",
    "X = np.random.uniform(-1, 1, n)\n",
    "\n",
    "# Generate random values for epsilon following N(0, 0.1^2)\n",
    "epsilon = np.random.normal(0, 0.1, n)\n",
    "\n",
    "# Calculate corresponding Y values using Y = 2X + epsilon\n",
    "Y = 2 * X + epsilon\n",
    "\n",
    "# Create the dataset as a list of tuples (x_i, y_i)\n",
    "dataset = [(X[i], Y[i]) for i in range(n)]\n",
    "\n",
    "# Print the first few data points for verification\n",
    "for i in range(5):\n",
    "    print(f\"Data point {i+1}: X = {dataset[i][0]:.4f}, Y = {dataset[i][1]:.4f}\")"
   ]
  },
  {
   "cell_type": "code",
   "execution_count": 3,
   "metadata": {},
   "outputs": [
    {
     "data": {
      "image/png": "[encoded data removed]",
      "text/plain": [
       "<Figure size 640x480 with 1 Axes>"
      ]
     },
     "metadata": {},
     "output_type": "display_data"
    }
   ],
   "source": [
    "# Plot the data points\n",
    "plt.scatter(X,Y)\n",
    "plt.xlabel('X')\n",
    "plt.ylabel('Y')\n",
    "plt.show()"
   ]
  },
  {
   "cell_type": "code",
   "execution_count": 4,
   "metadata": {},
   "outputs": [],
   "source": [
    "# Fit the Regression Through the Origin (RTO) model\n",
    "rto_model = sm.OLS(Y, X).fit()\n",
    "\n",
    "# Fit the Simple Linear Regression (SLR) model\n",
    "X_slr = sm.add_constant(X)  # Add a constant term for SLR\n",
    "slr_model = sm.OLS(Y, X_slr).fit()"
   ]
  },
  {
   "cell_type": "code",
   "execution_count": 5,
   "metadata": {},
   "outputs": [
    {
     "name": "stdout",
     "output_type": "stream",
     "text": [
      "Regression Through the Origin (RTO) Model:\n",
      "Sum of Residuals: 1.8894\n",
      "R-squared: 0.9923\n",
      "\n",
      "Simple Linear Regression (SLR) Model:\n",
      "Sum of Residuals: -0.0000\n",
      "R-squared: 0.9926\n"
     ]
    }
   ],
   "source": [
    "# Calculate residuals\n",
    "residuals_rto = rto_model.resid\n",
    "residuals_slr = slr_model.resid\n",
    "\n",
    "# Calculate R-squared values\n",
    "rsquared_rto = rto_model.rsquared\n",
    "rsquared_slr = slr_model.rsquared\n",
    "\n",
    "# Sum of residuals\n",
    "sum_residuals_rto = np.sum(residuals_rto)\n",
    "sum_residuals_slr = np.sum(residuals_slr)\n",
    "\n",
    "# Print the results\n",
    "print(\"Regression Through the Origin (RTO) Model:\")\n",
    "print(f\"Sum of Residuals: {sum_residuals_rto:.4f}\")\n",
    "print(f\"R-squared: {rsquared_rto:.4f}\")\n",
    "\n",
    "print(\"\\nSimple Linear Regression (SLR) Model:\")\n",
    "print(f\"Sum of Residuals: {sum_residuals_slr:.4f}\")\n",
    "print(f\"R-squared: {rsquared_slr:.4f}\")\n"
   ]
  }
 ],
 "metadata": {
  "kernelspec": {
   "display_name": "Python 3.10.5 64-bit",
   "language": "python",
   "name": "python3"
  },
  "language_info": {
   "codemirror_mode": {
    "name": "ipython",
    "version": 3
   },
   "file_extension": ".py",
   "mimetype": "text/x-python",
   "name": "python",
   "nbconvert_exporter": "python",
   "pygments_lexer": "ipython3",
   "version": "3.10.5"
  },
  "orig_nbformat": 4,
  "vscode": {
   "interpreter": {
    "hash": "aee8b7b246df8f9039afb4144a1f6fd8d2ca17a180786b69acc140d282b71a49"
   }
  }
 },
 "nbformat": 4,
 "nbformat_minor": 2
}
