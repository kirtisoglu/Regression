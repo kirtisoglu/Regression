{
 "cells": [
  {
   "cell_type": "markdown",
   "metadata": {},
   "source": [
    "$Q1.$ Field-goal-kicking data for the entire American Football League (AFL) and National Football League (NFL) for the 1969 season are given in Table 12.15 and can also be found at the book's Website. Let $\\pi(X)$ denote the probability of kicking a field goal from a distance of X yards."
   ]
  },
  {
   "cell_type": "code",
   "execution_count": 9,
   "metadata": {},
   "outputs": [],
   "source": [
    "import pandas as pd \n",
    "import numpy as np\n",
    "from scipy.optimize import minimize\n",
    "\n",
    "data = pd.read_csv('data.txt', sep='\\t')\n",
    "\n",
    "X = data['Distance ']\n",
    "y = data['Success ']"
   ]
  },
  {
   "cell_type": "markdown",
   "metadata": {},
   "source": [
    "$(a)$ For each of the leagues, fit the model $$\\pi(X) = \\dfrac{e^{\\beta_0 + \\beta_1 X + \\beta_2 X^2}}{1 + e^{\\beta_0 + \\beta_1 X + \\beta_2 X^2}}.$$"
   ]
  },
  {
   "cell_type": "code",
   "execution_count": 10,
   "metadata": {},
   "outputs": [
    {
     "name": "stdout",
     "output_type": "stream",
     "text": [
      "Estimated Parameters: [0. 0. 0.]\n"
     ]
    },
    {
     "name": "stderr",
     "output_type": "stream",
     "text": [
      "/Library/Frameworks/Python.framework/Versions/3.10/lib/python3.10/site-packages/pandas/core/arraylike.py:397: RuntimeWarning: overflow encountered in exp\n",
      "  result = getattr(ufunc, method)(*inputs, **kwargs)\n",
      "/Library/Frameworks/Python.framework/Versions/3.10/lib/python3.10/site-packages/pandas/core/arraylike.py:397: RuntimeWarning: divide by zero encountered in log\n",
      "  result = getattr(ufunc, method)(*inputs, **kwargs)\n",
      "/Library/Frameworks/Python.framework/Versions/3.10/lib/python3.10/site-packages/scipy/optimize/_numdiff.py:576: RuntimeWarning: invalid value encountered in subtract\n",
      "  df = fun(x) - f0\n",
      "/Library/Frameworks/Python.framework/Versions/3.10/lib/python3.10/site-packages/pandas/core/arraylike.py:397: RuntimeWarning: overflow encountered in exp\n",
      "  result = getattr(ufunc, method)(*inputs, **kwargs)\n",
      "/Library/Frameworks/Python.framework/Versions/3.10/lib/python3.10/site-packages/pandas/core/arraylike.py:397: RuntimeWarning: divide by zero encountered in log\n",
      "  result = getattr(ufunc, method)(*inputs, **kwargs)\n"
     ]
    }
   ],
   "source": [
    "# Define the logistic function\n",
    "def logistic_function(beta, X):\n",
    "    \"\"\"\n",
    "    beta: coefficients of the logistic function\n",
    "    X: independent variable\n",
    "    \"\"\"\n",
    "    return np.exp(beta[0] + beta[1] * X + beta[2] * X**2) / (1 + np.exp(beta[0] + beta[1] * X + beta[2] * X**2))\n",
    "\n",
    "# Define the negative log-likelihood function for logistic regression\n",
    "def negative_log_likelihood(beta, X, y):\n",
    "    \"\"\"\n",
    "    beta: coefficients of the logistic function\n",
    "    X: independent variable\n",
    "    y: dependent variable (success or failure)\n",
    "    \"\"\"\n",
    "    pi_X = logistic_function(beta, X)\n",
    "    log_likelihood = y * np.log(pi_X) + (1 - y) * np.log(1 - pi_X)\n",
    "    return -np.sum(log_likelihood)\n",
    "\n",
    "# Initial guess for the parameters\n",
    "initial_beta = [0, 0, 0]\n",
    "\n",
    "# Minimize the negative log-likelihood to estimate the parameters\n",
    "result = minimize(negative_log_likelihood, initial_beta, args=(X, y), method='BFGS')\n",
    "\n",
    "# Extract the estimated parameters\n",
    "estimated_beta = result.x\n",
    "\n",
    "# Display the estimated parameters\n",
    "print(\"Estimated Parameters:\", estimated_beta)"
   ]
  },
  {
   "cell_type": "markdown",
   "metadata": {},
   "source": [
    "(b) Let $Z$ be an indicator variable representing the league, that is, \n",
    " $$ Z=   \\left\\{\n",
    "\\begin{array}{ll}\n",
    "      1 & \\text{for the AFL} \\\\\n",
    "      0 & \\text{for the NFL} \\\\\n",
    "\\end{array} \n",
    "\\right.  $$\n",
    "\n",
    "Fit a single model combining the data from both leagues by extending the model to include the indicator variable Z; that is, fit\n",
    "$$\\pi(X,Z) =\\dfrac{e^{\\beta_0 + \\beta_1 X + \\beta_2 X^2 + \\beta_3 Z}}{1 + e^{\\beta_0 + \\beta_1 X + \\beta_2 X^2 + \\beta_3 Z}}.$$"
   ]
  },
  {
   "cell_type": "markdown",
   "metadata": {},
   "source": [
    "(c) Does the quadratic term contribute significantly to the model?"
   ]
  },
  {
   "cell_type": "markdown",
   "metadata": {},
   "source": [
    "(d) Are the probabilities of scoring field goals from a given distance the same for each league?"
   ]
  },
  {
   "cell_type": "markdown",
   "metadata": {},
   "source": []
  }
 ],
 "metadata": {
  "kernelspec": {
   "display_name": "Python 3.10.5 64-bit",
   "language": "python",
   "name": "python3"
  },
  "language_info": {
   "codemirror_mode": {
    "name": "ipython",
    "version": 3
   },
   "file_extension": ".py",
   "mimetype": "text/x-python",
   "name": "python",
   "nbconvert_exporter": "python",
   "pygments_lexer": "ipython3",
   "version": "3.10.5"
  },
  "orig_nbformat": 4,
  "vscode": {
   "interpreter": {
    "hash": "aee8b7b246df8f9039afb4144a1f6fd8d2ca17a180786b69acc140d282b71a49"
   }
  }
 },
 "nbformat": 4,
 "nbformat_minor": 2
}
