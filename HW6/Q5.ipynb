{
 "cells": [
  {
   "cell_type": "markdown",
   "metadata": {},
   "source": [
    "$Q5.$ Consider the Annual dues dataset. The board of directors of a professional association conducted a random sample survey of 30 members to assess the adverse effects of dues increase. X denotes the dollar amount increase in annual dues, and $Y = 1$ indicate the membership will not be renewed after the increase at this amount and $Y = 0$ if the membership will be renewed.\n",
    "The simple logistic regression model is used to fit the data."
   ]
  },
  {
   "cell_type": "markdown",
   "metadata": {},
   "source": [
    "$1.$ Find the MLE of $\\beta_0$ and $\\beta_1$, and state the fitted response function."
   ]
  },
  {
   "cell_type": "markdown",
   "metadata": {},
   "source": [
    "$2.$ Plot the data and the fitted response function, state if the fitted response function\n",
    "appears to fit the data well."
   ]
  },
  {
   "cell_type": "markdown",
   "metadata": {},
   "source": [
    "$3.$ If the dues are increased by $40, what is the probability that the members will not renew their membership?"
   ]
  },
  {
   "cell_type": "markdown",
   "metadata": {},
   "source": [
    "$4.$ Estimate the amount of dues increase for which 75% of the members are expected to not to renew their membership."
   ]
  },
  {
   "cell_type": "markdown",
   "metadata": {},
   "source": [
    "$5.$ For every dollar increase in the dues, how will the increase affect the $Prob(Y = 1)$, the probability of members not renewing their membership?"
   ]
  },
  {
   "cell_type": "markdown",
   "metadata": {},
   "source": [
    "$6.$ Fit a Poison regression model to the data. State the fitted response function. Which model gives a better fit?"
   ]
  },
  {
   "cell_type": "markdown",
   "metadata": {},
   "source": []
  }
 ],
 "metadata": {
  "language_info": {
   "name": "python"
  },
  "orig_nbformat": 4
 },
 "nbformat": 4,
 "nbformat_minor": 2
}
