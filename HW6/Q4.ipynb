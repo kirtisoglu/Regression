{
 "cells": [
  {
   "cell_type": "markdown",
   "metadata": {},
   "source": [
    "$Q4.$ Use the data on Magazine Advertising given in Table 6.17 and regress $ln(R)$ on $ln(P)$ using least squares. Observations 15, 22, 23, and 41 are problematic. Do these points have any special feature? Show that the robust fit for the full data set gives results comparable to the least squares results after deleting the four points."
   ]
  },
  {
   "cell_type": "markdown",
   "metadata": {},
   "source": []
  }
 ],
 "metadata": {
  "language_info": {
   "name": "python"
  },
  "orig_nbformat": 4
 },
 "nbformat": 4,
 "nbformat_minor": 2
}
