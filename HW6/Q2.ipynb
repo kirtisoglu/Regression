{
 "cells": [
  {
   "cell_type": "markdown",
   "metadata": {},
   "source": [
    "$Q2.$ Using the data on diabetes analyzed in Tables 12.6 and 12.7, answer the following items."
   ]
  },
  {
   "cell_type": "markdown",
   "metadata": {},
   "source": [
    "$(a)$ Show that inclusion of the variable RW does not result in a substantial\n",
    "      improvement in the classification rate from the multinomial logistic model using IR and SSPG."
   ]
  },
  {
   "cell_type": "markdown",
   "metadata": {},
   "source": [
    "(b) Fit an ordinal logistic model using RW, IR, and SSPG to explain CC. Show that there is no substantial improvement in fit, and the correct classification rate from a model using only IR and SSPG."
   ]
  },
  {
   "cell_type": "markdown",
   "metadata": {},
   "source": []
  }
 ],
 "metadata": {
  "language_info": {
   "name": "python"
  },
  "orig_nbformat": 4
 },
 "nbformat": 4,
 "nbformat_minor": 2
}
