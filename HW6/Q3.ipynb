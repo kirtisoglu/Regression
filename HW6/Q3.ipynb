{
 "cells": [
  {
   "cell_type": "markdown",
   "metadata": {},
   "source": [
    "$Q3.$ Use the data on injury incidents in airlines given in Table 6.6 to fit a Poisson regression model. Compare the three fits (least squares, transformed least squares, and Poisson), and decide which procedure provides the best description of the data."
   ]
  },
  {
   "cell_type": "markdown",
   "metadata": {},
   "source": []
  }
 ],
 "metadata": {
  "language_info": {
   "name": "python"
  },
  "orig_nbformat": 4
 },
 "nbformat": 4,
 "nbformat_minor": 2
}
