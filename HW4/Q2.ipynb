{
 "cells": [
  {
   "cell_type": "markdown",
   "metadata": {},
   "source": [
    "$\\textbf{Problem 2.}$ $\\hspace{2mm}$ For the body fat dataset, we wish to examine whether there are outliers. Use $r_i$, \n",
    "the  internally  studentized  residual, and $t_i$,  the  externally  studentized  residual,\n",
    "what conclusion can you draw, respectively?"
   ]
  },
  {
   "cell_type": "markdown",
   "metadata": {},
   "source": [
    "NOTE \n",
    "\n",
    "I see that some people enter the data manually. \n",
    "\n",
    "I explain the problem with reading the dataset and how to solve it in the solution of Problem 3."
   ]
  },
  {
   "cell_type": "code",
   "execution_count": 17,
   "metadata": {},
   "outputs": [],
   "source": [
    "import pandas as pd\n",
    "import numpy as np\n",
    "import matplotlib.pyplot as plt\n",
    "\n",
    "data = pd.read_csv('bodyfat.txt', delimiter='\\s+')\n",
    "\n",
    "X1 = data[['X1']]\n",
    "X2 = data[['X2']]\n",
    "X_points = data[['X1', 'X2']] \n",
    "Y = data['Y']"
   ]
  },
  {
   "cell_type": "markdown",
   "metadata": {},
   "source": [
    "$\\textbf{Answer:}$ $\\hspace{2mm}$\n",
    "\n",
    "We calculate hat matrix $H = X (X^T X)^{-1} X^T$ and residual vector of $e_i$'s as we did in Problem 1.  "
   ]
  },
  {
   "cell_type": "code",
   "execution_count": null,
   "metadata": {},
   "outputs": [],
   "source": [
    "ones_column_1 = np.ones((X_points.shape[0], 1))  # Create a column of ones.\n",
    "X = np.hstack((ones_column_1, X_points))  # Create design matrix X.\n",
    "\n",
    "H = X @ np.linalg.pinv(X.T @ X) @ X.T  # Calculate hat matrix H.\n",
    "Y_hat = np.matmul(H, Y)   # We know that H is the projection matrix and Y_hat = H.Y\n",
    "residual = Y-Y_hat   # find the vector of residuals."
   ]
  },
  {
   "cell_type": "markdown",
   "metadata": {},
   "source": [
    "Note that $n$ is the number data points and  $p = 2$ is the number of predictors.\n",
    "\n",
    "We first calculate the sum of squared errors $SSE$.\n",
    "\n",
    "Then, we calculate the vectors $r$, $t$ of internally and externally  studentized  residuals $r_i$ and $t_i$, respectively."
   ]
  },
  {
   "cell_type": "code",
   "execution_count": 42,
   "metadata": {},
   "outputs": [],
   "source": [
    "n = len(Y)\n",
    "p = 2\n",
    "\n",
    "SSE = np.sum(np.multiply(residual, residual))  # sum of squared errors\n",
    "\n",
    "sigma_squared = SSE/(n-2+1)   # \\hat(sigma)^2\n",
    "sigma = np.sqrt(sigma_squared)\n",
    "\n",
    "# Calculate internally and externally  studentized  residual vectors\n",
    "r = []\n",
    "t = []\n",
    "for idx, i in enumerate(residual):\n",
    "  r_i = i/(sigma*np.sqrt(1-H[idx][idx]))\n",
    "  r.append(r_i)\n",
    "  t_i = r_i*np.sqrt((n-p-2)/(n-p-1-(r_i**2)))\n",
    "  t.append(t_i)"
   ]
  },
  {
   "cell_type": "markdown",
   "metadata": {},
   "source": [
    "Let's plot them together. "
   ]
  },
  {
   "cell_type": "code",
   "execution_count": 30,
   "metadata": {},
   "outputs": [
    {
     "data": {
      "image/png": "[encoded data removed]",
      "text/plain": [
       "<Figure size 640x480 with 1 Axes>"
      ]
     },
     "metadata": {},
     "output_type": "display_data"
    }
   ],
   "source": [
    "# Plot Y_hat & r and Y_hat & t together.\n",
    "plt.plot(Y_hat, r, 'o', color='blue', label=\"internally studentized resid.\")\n",
    "plt.plot(Y_hat, t, 'o', color='red', label=\"externally studentized resid.\")\n",
    "plt.axhline(y = 0, color = 'gray', linestyle = '--')\n",
    "\n",
    "plt.ylim([-5, 5])\n",
    "\n",
    "plt.xlabel(\"Y_hat\")\n",
    "plt.ylabel(\"Residual\")\n",
    "plt.legend(loc=0)\n",
    "\n",
    "plt.show() "
   ]
  },
  {
   "cell_type": "markdown",
   "metadata": {},
   "source": [
    "Following codes give the observation numbers of the potential outliers in the data. We add 1 to idx in the print line, since indexing of data points starts from 0 in python. "
   ]
  },
  {
   "cell_type": "code",
   "execution_count": 43,
   "metadata": {},
   "outputs": [
    {
     "name": "stdout",
     "output_type": "stream",
     "text": [
      "Observation number: 13\n"
     ]
    }
   ],
   "source": [
    "for idx, (residual, t_value) in enumerate(zip(r, t)):\n",
    "    if abs(residual) >= 2 or abs(t_value) >= 2:\n",
    "        print(\"Observation number:\", idx + 1)"
   ]
  },
  {
   "cell_type": "markdown",
   "metadata": {},
   "source": [
    "The index corresponding to that observation is $i=12$. We find the values of predictors of the 13.th data point $X_{13}=(X_1,X_2)$ and its observation value $Y_{13}$ as follows."
   ]
  },
  {
   "cell_type": "code",
   "execution_count": 41,
   "metadata": {},
   "outputs": [
    {
     "name": "stdout",
     "output_type": "stream",
     "text": [
      "(array([ 1. , 18.7, 46.5]), 10.1)\n"
     ]
    }
   ],
   "source": [
    "potential_outlier = (X[12],Y[12])\n",
    "print(potential_outlier)"
   ]
  },
  {
   "cell_type": "markdown",
   "metadata": {},
   "source": [
    "The point $(X_1, X_2, Y_{13})=(18.7, 46.5, 10.1)$ is a potential outlier, which has the largest residual and largest difference in internal and external studentized residual."
   ]
  }
 ],
 "metadata": {
  "kernelspec": {
   "display_name": "Python 3.10.5 64-bit",
   "language": "python",
   "name": "python3"
  },
  "language_info": {
   "codemirror_mode": {
    "name": "ipython",
    "version": 3
   },
   "file_extension": ".py",
   "mimetype": "text/x-python",
   "name": "python",
   "nbconvert_exporter": "python",
   "pygments_lexer": "ipython3",
   "version": "3.10.5"
  },
  "orig_nbformat": 4,
  "vscode": {
   "interpreter": {
    "hash": "aee8b7b246df8f9039afb4144a1f6fd8d2ca17a180786b69acc140d282b71a49"
   }
  }
 },
 "nbformat": 4,
 "nbformat_minor": 2
}
