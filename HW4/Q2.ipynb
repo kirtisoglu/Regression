{
 "cells": [
  {
   "cell_type": "markdown",
   "metadata": {},
   "source": [
    "$\\textbf{Problem 2.}$ $\\hspace{2mm}$ For the body fat dataset, we wish to examine whether there are outliers. Use $r_i$, \n",
    "the  internally  studentized  residual, and $t_i$,  the  externally  studentized  residual,\n",
    "what conclusion can you draw, respectively?"
   ]
  },
  {
   "cell_type": "code",
   "execution_count": 1,
   "metadata": {},
   "outputs": [],
   "source": [
    "import pandas as pd\n",
    "import numpy as np\n",
    "import matplotlib.pyplot as plt\n",
    "\n",
    "data = pd.read_csv('bodyfat.txt', delimiter='\\s+')\n",
    "\n",
    "X1 = data[['X1']]\n",
    "X2 = data[['X2']]\n",
    "X_points = data[['X1', 'X2']] \n",
    "Y = data['Y']"
   ]
  },
  {
   "cell_type": "markdown",
   "metadata": {},
   "source": [
    "$\\textbf{Answer:}$ $\\hspace{2mm}$\n",
    "\n",
    "We calculate hat matrix $H = X (X^T X)^{-1} X^T$ and residual vector of $e_i$'s as we did in Problem 1.  "
   ]
  },
  {
   "cell_type": "code",
   "execution_count": 3,
   "metadata": {},
   "outputs": [],
   "source": [
    "n = len(Y)\n",
    "X = np.column_stack((np.ones(n),X_points))  \n",
    "H = X @ np.linalg.pinv(X.T @ X) @ X.T  \n",
    "Y_hat = H @ Y\n",
    "residuals = Y-Y_hat  "
   ]
  },
  {
   "cell_type": "markdown",
   "metadata": {},
   "source": [
    "$p = 2$ is the number of predictors. We first calculate the sum of squared errors $SSE$.\n",
    "\n",
    "Then, we calculate the vectors $r$, $t$ of internally and externally  studentized  residuals $r_i$ and $t_i$, respectively."
   ]
  },
  {
   "cell_type": "code",
   "execution_count": 4,
   "metadata": {},
   "outputs": [],
   "source": [
    "p = 2\n",
    "\n",
    "SSE = np.sum(np.multiply(residuals, residuals))  \n",
    "sigma_squared = SSE/(n-2+1) \n",
    "sigma = np.sqrt(sigma_squared)\n",
    "\n",
    "# Calculate internally and externally  studentized  residual vectors\n",
    "r = []\n",
    "t = []\n",
    "for idx, residual in enumerate(residuals):\n",
    "  r_i = residual/(sigma*np.sqrt(1-H[idx][idx]))\n",
    "  r.append(r_i)\n",
    "  t_i = r_i*np.sqrt((n-p-2)/(n-p-1-(r_i**2)))\n",
    "  t.append(t_i)"
   ]
  },
  {
   "cell_type": "markdown",
   "metadata": {},
   "source": [
    "We plot $\\hat{Y}$ versus $r$ and $\\hat{Y}$ versus $t$ together."
   ]
  },
  {
   "cell_type": "code",
   "execution_count": 11,
   "metadata": {},
   "outputs": [
    {
     "data": {
      "image/png": "[encoded data removed]",
      "text/plain": [
       "<Figure size 640x480 with 1 Axes>"
      ]
     },
     "metadata": {},
     "output_type": "display_data"
    }
   ],
   "source": [
    "plt.plot(Y_hat, r, 'o', color='blue', label=\"internally studentized resid.\")\n",
    "plt.plot(Y_hat, t, 'o', color='red', label=\"externally studentized resid.\")\n",
    "plt.axhline(y = 0, color = 'gray', linestyle = '--')\n",
    "plt.ylim([-3, 3])\n",
    "plt.xlabel(\"Y_hat\")\n",
    "plt.legend(loc=0)\n",
    "plt.show() "
   ]
  },
  {
   "cell_type": "markdown",
   "metadata": {},
   "source": [
    "We print the observation numbers of the potential outliers. We add 1 to idx in the print line, since indexing of data points starts from 0 in python. "
   ]
  },
  {
   "cell_type": "code",
   "execution_count": 14,
   "metadata": {},
   "outputs": [
    {
     "name": "stdout",
     "output_type": "stream",
     "text": [
      "Observation number: 13\n"
     ]
    }
   ],
   "source": [
    "for idx, (residual, t_value) in enumerate(zip(r, t)):\n",
    "    if abs(residual) >= 2 or abs(t_value) >= 2:\n",
    "        print(\"Observation number:\", idx + 1)"
   ]
  },
  {
   "cell_type": "markdown",
   "metadata": {},
   "source": [
    "The index corresponding to that observation is $i=12$. We find predictors of the 13.th observation $X_{13}=(X_1,X_2)$ and its observation value $Y_{13}$."
   ]
  },
  {
   "cell_type": "code",
   "execution_count": 15,
   "metadata": {},
   "outputs": [
    {
     "name": "stdout",
     "output_type": "stream",
     "text": [
      "(array([ 1. , 18.7, 46.5]), 10.1)\n"
     ]
    }
   ],
   "source": [
    "potential_outlier = (X[12],Y[12])\n",
    "print(potential_outlier)"
   ]
  },
  {
   "cell_type": "markdown",
   "metadata": {},
   "source": [
    "The point $(X_1, X_2, Y_{13})=(18.7, 46.5, 10.1)$ is a potential outlier, which has the largest residual and largest difference in internal and external studentized residual."
   ]
  }
 ],
 "metadata": {
  "kernelspec": {
   "display_name": "Python 3.10.5 64-bit",
   "language": "python",
   "name": "python3"
  },
  "language_info": {
   "codemirror_mode": {
    "name": "ipython",
    "version": 3
   },
   "file_extension": ".py",
   "mimetype": "text/x-python",
   "name": "python",
   "nbconvert_exporter": "python",
   "pygments_lexer": "ipython3",
   "version": "3.10.5"
  },
  "orig_nbformat": 4,
  "vscode": {
   "interpreter": {
    "hash": "aee8b7b246df8f9039afb4144a1f6fd8d2ca17a180786b69acc140d282b71a49"
   }
  }
 },
 "nbformat": 4,
 "nbformat_minor": 2
}
