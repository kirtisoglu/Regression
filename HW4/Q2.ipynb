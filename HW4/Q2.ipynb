{
 "cells": [
  {
   "cell_type": "code",
   "execution_count": 55,
   "metadata": {},
   "outputs": [],
   "source": [
    "import pandas as pd\n",
    "import numpy as np\n",
    "import statsmodels.api as sm\n",
    "import matplotlib.pyplot as plt\n",
    "\n",
    "data = pd.read_csv('bodyfat.txt', delimiter='\\s+')\n",
    "\n",
    "\n",
    "X = sm.add_constant(data[['X1', 'X2']])  # Add a constant term (intercept)\n",
    "y = data['Y']\n",
    "model = sm.OLS(y, X).fit()  \n",
    "\n",
    "residuals = model.resid\n",
    "internally_studentized_residuals = residuals / model.resid.std()\n",
    "external_studentized_residuals = sm.OLS(y, X).fit().get_influence().resid_studentized_external\n",
    "\n",
    "#r_i =    # internally  studentized  residual\n",
    "#t_i =    # externally  studentized  residual\n"
   ]
  }
 ],
 "metadata": {
  "kernelspec": {
   "display_name": "Python 3.10.5 64-bit",
   "language": "python",
   "name": "python3"
  },
  "language_info": {
   "name": "python",
   "version": "3.10.5"
  },
  "orig_nbformat": 4,
  "vscode": {
   "interpreter": {
    "hash": "aee8b7b246df8f9039afb4144a1f6fd8d2ca17a180786b69acc140d282b71a49"
   }
  }
 },
 "nbformat": 4,
 "nbformat_minor": 2
}
