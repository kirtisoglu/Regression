{
 "cells": [
  {
   "cell_type": "markdown",
   "metadata": {},
   "source": [
    "$\\textbf{Problem 4.} \\hspace{2mm}$ Consider the data in Table 5.7 of the textbook. Use TEST as $X$,  RACE as $Z$, and JPERF as response variable $Y$. $X$ is quantitative predictor variable, $Z$ is a binary indicator variable. Instead of using all 20 data points, you would use 18 datapoints including the first 9 data points from each group."
   ]
  },
  {
   "cell_type": "markdown",
   "metadata": {},
   "source": [
    "$\\textbf{Note:} \\hspace{2mm}$ We use all 20 data points in the solution. If you used 18 points, your results should be very similar to our results, you can still compare them."
   ]
  },
  {
   "cell_type": "code",
   "execution_count": 17,
   "metadata": {},
   "outputs": [],
   "source": [
    "import pandas as pd\n",
    "import numpy as np\n",
    "import scipy.stats as stats\n",
    "import matplotlib.pyplot as plt\n",
    "\n",
    "data = pd.read_csv('preemployment.txt', sep='\\t') \n",
    "\n",
    "X = data['TEST']  # predictor variable\n",
    "Y = data['JPERF'] # response variable\n",
    "Z = data['RACE']  # indicator variable"
   ]
  },
  {
   "cell_type": "markdown",
   "metadata": {},
   "source": [
    "$\\textbf{1.} \\hspace{2mm}$ In order to answer if the minority group $(Z= 1)$ has the same coefficients as the non-minority group $(Z= 0)$, first provide the pooled model, and separate model for each group, and then perform a F-test to draw your conclusion? Can you use a t-test to draw the conclusion?"
   ]
  },
  {
   "cell_type": "markdown",
   "metadata": {},
   "source": [
    "$\\textbf{Answer:} \\hspace{2mm}$ A pooled model refers to a statistical analysis where data from multiple groups are combined (pooled) and treated as a single dataset for analysis. Why do we do that?\n",
    "\n",
    "If there is a common underlying relationship, or the differences between groups are not of primary interest, pooling the data can increase the sample size, leading to increased statistical power. \n",
    "\n",
    "In such case, we do not need to fit two regression lines on two datasets (or might be indicated by a 0-1 variable $Z$ in one dataset), instead we fit only one line, which also makes the analysis simpler. To do this, we will need a hypothesis testing to understand the relationship.\n",
    "\n",
    "In our question, we first ignore the difference $Z=0$ or $Z=1$, which is a race distinction in society for our case, and consider $X$ as the predictor variable and $Y$ as the response variable of whole data. The pooled model is\n",
    "\n",
    "$$y_{i}= \\beta^{pool}_0 + \\beta^{pool}_1 x_i + \\epsilon^{pool}_{i}.$$\n",
    "\n",
    "For minority rows of the data, the minority model is\n",
    "\n",
    "$$y^{m}_{i} = \\beta^{m}_{0} + \\beta^{m}_{1} x^{m}_{i} + \\epsilon^{m}_{i},$$\n",
    "\n",
    "and for non-minority rows, the non-minority model is\n",
    "\n",
    "$$y^{n}_{i} = \\beta^{n}_{0} + \\beta^{n}_{1} x_{i} + \\epsilon^{n}_{i}.$$\n",
    "\n",
    "\n",
    "We start with fitting the regression line of the pooled model. Note that the number predictors in the data is $p=1$. "
   ]
  },
  {
   "cell_type": "code",
   "execution_count": 26,
   "metadata": {},
   "outputs": [],
   "source": [
    "n = len(Y)\n",
    "p = 1\n",
    "\n",
    "X_design_pooled = np.column_stack((np.ones(n),X))\n",
    "H_pooled = X_design_pooled @ np.linalg.pinv(X_design_pooled.T @ X_design_pooled)@ X_design_pooled.T\n",
    "\n",
    "Y_hat_pooled = H_pooled @ Y\n",
    "\n",
    "residuals_pooled = Y-Y_hat_pooled\n",
    "\n",
    "Beta_hat_pooled = np.linalg.pinv(X_design_pooled.T @ X_design_pooled)@ X_design_pooled.T@ Y"
   ]
  },
  {
   "cell_type": "markdown",
   "metadata": {},
   "source": [
    "Let's seperate the dataset according to the difference, $Z=1$ or $Z = 0$."
   ]
  },
  {
   "cell_type": "code",
   "execution_count": null,
   "metadata": {},
   "outputs": [],
   "source": [
    "X_minority = X[Z == 1]    \n",
    "Y_minority = Y[Z == 1]\n",
    "\n",
    "X_nonminority = X[Z == 0]\n",
    "Y_nonminority = Y[Z == 0]"
   ]
  },
  {
   "cell_type": "markdown",
   "metadata": {},
   "source": [
    "We fit the regression lines of minority and non-minority models."
   ]
  },
  {
   "cell_type": "code",
   "execution_count": 23,
   "metadata": {},
   "outputs": [],
   "source": [
    "# Regression line for the minority group\n",
    "\n",
    "n = len(Y_minority)\n",
    "\n",
    "X_design_minority = np.column_stack((np.ones(n),X_minority))\n",
    "H_minority = X_design_minority @ np.linalg.pinv(X_design_minority.T @ X_design_minority)@ X_design_minority.T\n",
    "\n",
    "Y_hat_minority = H_minority @ Y_minority\n",
    "residuals_minority = Y_minority - Y_hat_minority\n",
    "Beta_hat_minority = np.linalg.pinv(X_design_minority.T @ X_design_minority)@ X_design_minority.T @ Y_minority.T\n",
    "\n",
    "\n",
    "# Regression line for the non-minority group\n",
    "\n",
    "X_design_nonminority = np.column_stack((np.ones(n),X_nonminority))\n",
    "H_nonminority = X_design_nonminority @ np.linalg.pinv(X_design_nonminority.T @ X_design_nonminority)@ X_design_nonminority.T\n",
    "\n",
    "Y_hat_nonminority = H_nonminority @ Y_nonminority\n",
    "residuals_nonminority = Y_nonminority - Y_hat_nonminority\n",
    "Beta_hat_nonminority = np.linalg.pinv(X_design_nonminority.T @ X_design_nonminority)@ X_design_nonminority.T @ Y_nonminority.T\n"
   ]
  },
  {
   "cell_type": "markdown",
   "metadata": {},
   "source": [
    "See the cofficient vectors of pooled, minoirty and non-minority models."
   ]
  },
  {
   "cell_type": "code",
   "execution_count": 25,
   "metadata": {},
   "outputs": [
    {
     "name": "stdout",
     "output_type": "stream",
     "text": [
      "Pooled model: [1.03497323 2.36053467]\n",
      "Minority model: [0.09711523 3.31094801]\n",
      "Non-minority model: [2.01028229 1.31340219]\n"
     ]
    }
   ],
   "source": [
    "print('Pooled model:', Beta_hat_pooled)\n",
    "print('Minority model:', Beta_hat_minority)\n",
    "print('Non-minority model:', Beta_hat_nonminority)"
   ]
  },
  {
   "cell_type": "markdown",
   "metadata": {},
   "source": [
    "Now, we need the null hypothesis \n",
    "\n",
    "$$H_0 : \\beta^{m}_{1} = \\beta^{n}_{1}, \\hspace{3mm} \\beta^{m}_{0} = \\beta^{n}_{0}$$ \n",
    "\n",
    "against the alternative that there are substantial differences in these parameters. How do we do such a test? This is explained on Page 140 in the textbook. Let's discuss it here in detail. \n",
    "\n",
    "We will find an equivalent hypothesis to $H_0$. Remind that models are \n",
    "\n",
    "$\\textbf{Pooled model:}$ $$y_{i}= \\beta^{pool}_0 + \\beta^{pool}_1 x_i + \\epsilon^{pool}_{i}.$$\n",
    "\n",
    "$\\textbf{Minority model:}$ $$y^{m}_{i} = \\beta^{m}_{0} + \\beta^{m}_{1} x^{m}_{i} + \\epsilon^{m}_{i},$$\n",
    "\n",
    "$\\textbf{Non-minority model:}$ $$y^{n}_{i} = \\beta^{n}_{0} + \\beta^{n}_{1} x_{i} + \\epsilon^{n}_{i}.$$\n",
    "\n",
    "Consider the following revised model that contains the term of interaction $ z_i x^{pool}_{i}$ between the indicator of groups and data points.  \n",
    "\n",
    "$\\textbf{Revised model:}$ $$y_{i} = \\beta^{pool}_{0} + \\beta^{pool}_1 x^{pool}_{i} + \\gamma z_{i} + \\delta (z_i x^{pool}_{i})+ \\epsilon^{pool}_i,$$\n",
    "\n",
    "where $\\hspace{1mm} \\delta = \\beta^{m}_{1} - \\beta^{pool}_1$ and $\\gamma = \\beta^m_{0} - \\beta^{pool}_0$.\n",
    "\n",
    "$\\textbf{Claim:} \\hspace{1mm}$ Revised model is equivalent to minority and non-minority models.\n",
    "\n",
    "$\\textbf{Proof:} \\hspace{1mm}$ If $x^{pool}_{i}$ is a non-minority point, then $z_i = 0$ and the revised model becomes the pooled model. If $x^{pool}_{i}$ is a minority point, substituting $\\delta = \\beta^{m}_{1} - \\beta^{pool}_1$, $\\gamma = \\beta^m_{0} - \\beta^{pool}_0$ and $z_i = 1$ in the revised model, we again obtain the pooled model. Therefore, the comparison between pooled model and revised model is equivalent to a comparison between pooled model and minority (or non-minority) model. This provides the equivalency. $\\square$\n",
    "\n",
    "This equivalency is important because the datasets of revised and pooled models are the same unlike other models.\n",
    "\n",
    "Revised model can be viewed as a full model $(FM)$ and pooled model as reduced model $(RM)$. Because, pooled model is obtained from non-minority model. This can be seen by setting $\\gamma = \\delta =0$ in the revised model.\n",
    "\n",
    "Therefore, the null hypothesis \n",
    "\n",
    "$$H_0 : \\beta^{m}_{1} = \\beta^{n}_{1}, \\hspace{3mm} \\beta^{m}_{0} = \\beta^{n}_{0}$$ \n",
    "\n",
    "is equivalent to the null hypothesis $H_{0}: \\gamma = \\delta = 0$. \n",
    "\n",
    "The number of predictors in the reduced (pooled) model is 1, and so $df(RM) = n-1-1=18$.\n",
    "\n",
    "There are 3 predictors in the full (revised) model. Because, $x^{pool}_{i}$, $\\gamma z_{i}$ and $z_i x^{pool}_{i}$ are different variables. So, $df(FM) = n-3-1=16$.\n",
    "\n",
    " From the general formula of F-statistic, we obtain\n",
    "\n",
    "$$F^\\star = \\dfrac{SSE(RM) -SSE(FM)}{2} \\bigg/ \\dfrac{SSE(FM)}{16} \\thicksim F(2, 16).$$\n",
    "\n",
    "To calculate $SSE(FM)$, we need to fit the regression line of revised model."
   ]
  },
  {
   "cell_type": "code",
   "execution_count": 28,
   "metadata": {},
   "outputs": [
    {
     "data": {
      "text/plain": [
       "array([ 2.01028229,  1.31340219, -1.91316707,  1.99754582])"
      ]
     },
     "execution_count": 28,
     "metadata": {},
     "output_type": "execute_result"
    }
   ],
   "source": [
    "X_pooled_times_Z = np.multiply(X, Z)\n",
    "\n",
    "X_revised_design = np.column_stack((np.ones(n), X, Z, X_pooled_times_Z))\n",
    "H_revised = X_revised_design @ np.linalg.pinv(X_revised_design.T @ X_revised_design) @ X_revised_design.T \n",
    "\n",
    "Y_hat_revised = H_revised @ Y\n",
    "\n",
    "beta_hat_revised = (np.linalg.pinv(X_revised_design.T @ X_revised_design) @ X_revised_design.T) @ Y_hat_revised\n",
    "beta_hat_revised"
   ]
  },
  {
   "cell_type": "markdown",
   "metadata": {},
   "source": [
    "Let's calculate $SSE(RM)$ and $SSE(FM)$ and test the null hypothesis."
   ]
  },
  {
   "cell_type": "code",
   "execution_count": 31,
   "metadata": {},
   "outputs": [
    {
     "name": "stdout",
     "output_type": "stream",
     "text": [
      "SSE(RM): 45.5682968283022\n",
      "SSE(FM): 31.655473162338446\n",
      "F_statistic: 3.5160614645346824\n",
      "p-value: 0.9457639437352865\n",
      "alpha: 0.05\n",
      "failed to reject the null hypothesis.\n"
     ]
    }
   ],
   "source": [
    "import scipy.stats\n",
    "\n",
    "\n",
    "# Reduced model (pooled)\n",
    "SSE_RM = np.sum(np.multiply(residuals_pooled, residuals_pooled))\n",
    "\n",
    "# Full Model (Revised)\n",
    "residuals_revised = Y - Y_hat_revised\n",
    "SSE_FM = np.sum(np.multiply(residuals_revised, residuals_revised))\n",
    "\n",
    "\n",
    "F_statistic = ((SSE_RM - SSE_FM) /2) / ((SSE_FM / 16))\n",
    "\n",
    "alpha = 0.05\n",
    "\n",
    "p_value = scipy.stats.f.cdf(F_statistic, 2, 16)\n",
    "\n",
    "print(\"SSE(RM):\", SSE_RM)\n",
    "print(\"SSE(FM):\", SSE_FM)\n",
    "print(\"F_statistic:\", F_statistic)\n",
    "print(\"p-value:\", p_value)\n",
    "print(\"alpha:\", alpha)\n",
    "\n",
    "if (p_value < alpha):\n",
    "    print('Null hypothesis is rejected.')\n",
    "else:\n",
    "    print('failed to reject the null hypothesis.')"
   ]
  },
  {
   "cell_type": "markdown",
   "metadata": {},
   "source": [
    "The null hypothosis $H_{0}: \\gamma = \\delta = 0$ is rejected. \n",
    "\n",
    "Therefore, $$H_0 : \\beta^{m}_{1} = \\beta^{n}_{1}, \\hspace{3mm} \\beta^{m}_{0} = \\beta^{n}_{0}$$ is also rejected.\n",
    "\n",
    "Cofficients of minority and non-minority models are not the same. \n",
    "\n",
    "To be able to use t-test, we need to test only one cofficient. So, $H_0: \\gamma=0$ or  $H_0:\\delta= 0$ must be equivalent to \n",
    "\n",
    "$H_{0}: \\gamma = \\delta = 0$, which is not always true."
   ]
  },
  {
   "cell_type": "markdown",
   "metadata": {},
   "source": [
    "$ \\textbf{Part 2.}: \\hspace{2mm}$ If we know as a fact that the two groups have the same intercept, we are interested in testing if the slope of $X$ is also the same. What would you do? Would you use a t-test or F-test?\n",
    "\n",
    "$ \\textbf{Answer}: \\hspace{2mm}$ Assume that $\\beta^{m}_{0}=\\beta^{n}_{0}$. In that case, we have\n",
    "\n",
    "Pooled model: $$\\hspace{2mm} y^{pool}_{i} = \\beta^{pool}_{0} + \\beta^{pool}_{1} x^{pool}_{i} + \\epsilon^{pool}_{i},$$\n",
    "\n",
    "Minority model: $$\\hspace{2mm} y^{m}_{i} = \\beta^{pool}_{0} + \\beta^{m}_{1} x^{m}_{i} + \\epsilon^{m}_{i},$$\n",
    "\n",
    "Non-minority model: $$\\hspace{2mm} y^{n}_{i} = \\beta^{pool}_{0} + \\beta^{n}_{1} x_{i} + \\epsilon^{n}_{i}$$\n",
    "\n",
    "and $\\gamma = \\beta^{m}_0 -\\beta^{pool}_{0} = 0$. Then the revised model becomes\n",
    "\n",
    "$$y_{i} = \\beta^{pool}_{0} + \\beta^{pool}_1 x^{pool}_{i} + \\delta (z_i x^{pool}_{i})+ \\epsilon^{pool}_i.$$\n",
    "\n",
    "It is now enough to test the hypothesis $H_0: \\delta=0$ to show the equivalency that we discussed above. Hence, we can use \n",
    "\n",
    "t-test.\n",
    "\n"
   ]
  }
 ],
 "metadata": {
  "kernelspec": {
   "display_name": "Python 3.10.5 64-bit",
   "language": "python",
   "name": "python3"
  },
  "language_info": {
   "codemirror_mode": {
    "name": "ipython",
    "version": 3
   },
   "file_extension": ".py",
   "mimetype": "text/x-python",
   "name": "python",
   "nbconvert_exporter": "python",
   "pygments_lexer": "ipython3",
   "version": "3.10.5"
  },
  "orig_nbformat": 4,
  "vscode": {
   "interpreter": {
    "hash": "aee8b7b246df8f9039afb4144a1f6fd8d2ca17a180786b69acc140d282b71a49"
   }
  }
 },
 "nbformat": 4,
 "nbformat_minor": 2
}
