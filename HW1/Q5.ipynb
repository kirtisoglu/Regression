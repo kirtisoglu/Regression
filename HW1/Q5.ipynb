{
 "cells": [
  {
   "cell_type": "code",
   "execution_count": 159,
   "metadata": {},
   "outputs": [],
   "source": [
    "import pandas as pd\n",
    "import numpy as np\n",
    "import seaborn as sns\n",
    "from sklearn.linear_model import LinearRegression\n",
    "import matplotlib.pyplot as plt\n",
    "from scipy import stats\n",
    "from scipy.stats import ttest_1samp"
   ]
  },
  {
   "cell_type": "code",
   "execution_count": 136,
   "metadata": {},
   "outputs": [
    {
     "data": {
      "text/plain": [
       "(96, 1)"
      ]
     },
     "execution_count": 136,
     "metadata": {},
     "output_type": "execute_result"
    }
   ],
   "source": [
    "# Read data\n",
    "data = pd.read_table('data.txt')\n",
    "\n",
    "husband = data['Husband']\n",
    "wife = data['Wife']"
   ]
  },
  {
   "cell_type": "code",
   "execution_count": 120,
   "metadata": {},
   "outputs": [
    {
     "data": {
      "text/plain": [
       "(96,)"
      ]
     },
     "execution_count": 120,
     "metadata": {},
     "output_type": "execute_result"
    }
   ],
   "source": [
    "# (a) Compute the covariance between the heights of the husbands and wifes.\n",
    "\n",
    "n = len(husband)\n",
    "husband_mean = np.mean(husband)\n",
    "wife_mean = np.mean(wife)\n",
    "covariance = np.inner((husband - husband_mean), (wife - wife_mean)) / (n-1)\n",
    "\n",
    "print('Mean of heights of wifes (cm) =', wife_mean)\n",
    "print('Mean of heights of husbands (cm) =', husband_mean)\n",
    "print('Covariance between the heights (cm) =', covariance) \n"
   ]
  },
  {
   "cell_type": "code",
   "execution_count": 102,
   "metadata": {},
   "outputs": [
    {
     "name": "stdout",
     "output_type": "stream",
     "text": [
      "Mean of heights of wifes (inch) = 64.52591863517061\n",
      "Mean of heights of husbands (inch) = 68.63106955380577\n",
      "Covariance between the heights (inch) = 10.759027000510143\n",
      "Covariance (cm) / covariance (inch) = 6.451599999999998\n",
      "Square root of covariance (cm) / covariance (inch) = 2.5399999999999996\n"
     ]
    }
   ],
   "source": [
    "# (b) What would the covariance be if heights were measured in inches rather than in centimeters?\n",
    "\n",
    "\"\"\" 1 inch = 2.54 centimeters\"\"\"\n",
    "husband_inch = husband/2.54 \n",
    "wife_inch = wife/2.54\n",
    "\n",
    "husband_mean_inch = np.mean(husband_inch)\n",
    "wife_mean_inch = np.mean(wife_inch)\n",
    "covariance_inch = np.inner((husband_inch - husband_mean_inch), (wife_inch - wife_mean_inch)) / (n-1)\n",
    "\n",
    "print('Mean of heights of wifes (inch) =', wife_mean_inch)\n",
    "print('Mean of heights of husbands (inch) =', husband_mean_inch)\n",
    "print('Covariance between the heights (inch) =', covariance_inch)\n",
    "\n",
    "# Let's see the relationship between covariance and covariance_inch\n",
    "factor = covariance / covariance_inch\n",
    "\n",
    "print('Covariance (cm) / covariance (inch) =', factor) \n",
    "print('Square root of covariance (cm) / covariance (inch) =', np.sqrt(factor)) \n",
    "\n",
    "# It does not find the factor exactly 2.54 due to floating point arithmetic error. No problem.\n",
    "# We see that the covariance is sensitive to the unit in which we measure the data."
   ]
  },
  {
   "cell_type": "code",
   "execution_count": 103,
   "metadata": {},
   "outputs": [
    {
     "name": "stdout",
     "output_type": "stream",
     "text": [
      "Correlation coefficient between heights (cm) = 0.7633863969860971\n"
     ]
    }
   ],
   "source": [
    "# (c) Compute the correlation coefficient between the heights of the husband and wife.\n",
    "\n",
    "standard_deviation_husband = np.sqrt(np.inner((husband - husband_mean), (husband - husband_mean))/(n-1))\n",
    "standard_deviation_wife = np.sqrt(np.inner((wife - wife_mean), (wife - wife_mean))/(n-1))\n",
    "\n",
    "correlation_coefficient = covariance/(standard_deviation_husband*standard_deviation_wife)\n",
    "\n",
    "print('Correlation coefficient between heights (cm) =', correlation_coefficient)\n",
    "\n"
   ]
  },
  {
   "cell_type": "code",
   "execution_count": 104,
   "metadata": {},
   "outputs": [
    {
     "name": "stdout",
     "output_type": "stream",
     "text": [
      "Correlation coefficient between heights (inch) = 0.7633863969860973\n"
     ]
    }
   ],
   "source": [
    "# (d) What would the correlation be if heights were measured in inches rather than in centimeters?\n",
    "\n",
    "standard_deviation_husband_inch = np.sqrt(np.inner((husband_inch - husband_mean_inch), (husband_inch - husband_mean_inch))/(n-1))\n",
    "standard_deviation_wife_inch = np.sqrt(np.inner((wife_inch - wife_mean_inch), (wife_inch - wife_mean_inch))/(n-1))\n",
    "\n",
    "correlation_coefficient_inch = covariance_inch / (standard_deviation_husband_inch * standard_deviation_wife_inch)\n",
    "\n",
    "print('Correlation coefficient between heights (inch) =', correlation_coefficient_inch)\n",
    "\n",
    "# Correlation cofficient is not effected by the change of the unit."
   ]
  },
  {
   "cell_type": "code",
   "execution_count": 162,
   "metadata": {},
   "outputs": [
    {
     "name": "stdout",
     "output_type": "stream",
     "text": [
      "Correlation coefficient for the marriage with a woman exactly 5 cm shorter = 1.0000000000000002\n"
     ]
    }
   ],
   "source": [
    "# (e) What would the correlation be if every man married a woman exactly 5 centimeters shorter than him?\n",
    "\n",
    "# Define a new column for women 5cm shorter than men. \n",
    "new_wife = husband - 5\n",
    "new_wife_mean = np.mean(new_wife)\n",
    "\n",
    "covariance_new = np.inner((husband - husband_mean), (new_wife - new_wife_mean)) / (n-1)\n",
    "\n",
    "standard_deviation_new_wife = np.sqrt(np.inner((new_wife - new_wife_mean), (new_wife - new_wife_mean))/(n-1))\n",
    "\n",
    "correlation_coefficient_new = covariance_new / (standard_deviation_husband * standard_deviation_new_wife)\n",
    "\n",
    "print('Correlation coefficient for the marriage with a woman exactly 5 cm shorter =', correlation_coefficient_new)\n",
    "\n",
    "# Perfectly Correlated!! It is not exactly 1 due to the floating point arithmetic error."
   ]
  },
  {
   "cell_type": "code",
   "execution_count": 113,
   "metadata": {},
   "outputs": [
    {
     "data": {
      "image/png": "[encoded data removed]",
      "text/plain": [
       "<Figure size 640x480 with 1 Axes>"
      ]
     },
     "metadata": {},
     "output_type": "display_data"
    }
   ],
   "source": [
    "# (f) We wish to fit a regression model relating the heights of husbands and wives. \n",
    "#     Which one of the two variables would you choose as the response variable? Justify your answer.\n",
    "\n",
    "# We found Cor(Y,X)=0.7633863969860973. It means that wife variable X is a useful predictor of husband variable Y.\n",
    "# It is sometimes possible to find |Cor(Y,X)| high, but we may not have a linear relationship. \n",
    "# We justify this by plotting the data.\n",
    "\n",
    "plt.scatter(wife, husband)\n",
    "plt.xlabel('heights of wifes')\n",
    "plt.ylabel('heights of husbands')\n",
    "plt.show()\n",
    "\n",
    "# The following figure shows us a linear relationship between X and Y."
   ]
  },
  {
   "cell_type": "code",
   "execution_count": 163,
   "metadata": {},
   "outputs": [
    {
     "data": {
      "text/plain": [
       "1.2421203097367699e-50"
      ]
     },
     "execution_count": 163,
     "metadata": {},
     "output_type": "execute_result"
    }
   ],
   "source": [
    "# (g) Using your choice of the response variable in Exercise 2.1O(f), \n",
    "#     test the null hypothesis that the slope is zero.\n",
    "\n",
    "from scipy.stats import linregress\n",
    "beta_1, beta_0, r_value, p_value, std_err = linregress(wife, husband)\n",
    "p_value\n",
    "\n",
    "t_stat, p_value_slope = ttest_1samp(wife - beta_1 * husband, 0)\n",
    "p_value_slope"
   ]
  },
  {
   "cell_type": "code",
   "execution_count": null,
   "metadata": {},
   "outputs": [],
   "source": [
    "# (h) Using your choice of the response variable in 2.1O (f), test the null hypothesis that the intercept is zero.\n",
    "\n",
    "\n"
   ]
  }
 ],
 "metadata": {
  "kernelspec": {
   "display_name": "Python 3.10.5 64-bit",
   "language": "python",
   "name": "python3"
  },
  "language_info": {
   "codemirror_mode": {
    "name": "ipython",
    "version": 3
   },
   "file_extension": ".py",
   "mimetype": "text/x-python",
   "name": "python",
   "nbconvert_exporter": "python",
   "pygments_lexer": "ipython3",
   "version": "3.10.5"
  },
  "orig_nbformat": 4,
  "vscode": {
   "interpreter": {
    "hash": "aee8b7b246df8f9039afb4144a1f6fd8d2ca17a180786b69acc140d282b71a49"
   }
  }
 },
 "nbformat": 4,
 "nbformat_minor": 2
}
